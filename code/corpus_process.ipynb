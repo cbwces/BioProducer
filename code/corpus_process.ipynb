{
 "cells": [
  {
   "cell_type": "code",
   "execution_count": 1,
   "metadata": {},
   "outputs": [],
   "source": [
    "import re\n",
    "import pickle\n",
    "from collections import defaultdict\n",
    "from tqdm import tqdm"
   ]
  },
  {
   "cell_type": "code",
   "execution_count": 10,
   "metadata": {},
   "outputs": [],
   "source": [
    "def extract_tuple(chunked_sent):    # 根据文本中的所有三元组\n",
    "    \n",
    "    collector = []\n",
    "    for words, tags in chunked_sent:\n",
    "        \n",
    "        tri_tuple, raw_sent, is_use = element_extractor(words, tags)\n",
    "        if is_use:\n",
    "            collector.append((tri_tuple, raw_sent))\n",
    "    \n",
    "    return collector\n",
    "    \n",
    "def element_extractor(words, tags):    # 提取三元组\n",
    "    \n",
    "    first_container = []\n",
    "    second_container = []\n",
    "    third_container = []\n",
    "    record_switch = 0 # 开关，判断是否录入\n",
    "                       #0: 未录入\n",
    "                       #0.5:第一元组录入中\n",
    "                       #1:第一元组录入完成，第二元组未录入\n",
    "                       #1.5:第二元组录入中\n",
    "                       #2:第二元组录入完成，第三元组未录入\n",
    "                       #2.5:第三元组录入中\n",
    "                       #3:完成录入\n",
    "    for pos, (w, t) in enumerate(zip(words, tags)):\n",
    "        try:\n",
    "            if t == \"B-NP\":\n",
    "                if record_switch == 0:\n",
    "                    first_container.append(w)\n",
    "                    if pos < (len(tags) - 1):\n",
    "                        if tags[pos+1] == \"I-NP\":\n",
    "                            record_switch = 0.5\n",
    "                        else:\n",
    "                            record_switch = 1\n",
    "                    else:\n",
    "                        record_switch = 3\n",
    "\n",
    "                if record_switch == 2:\n",
    "                    third_container.append(w)\n",
    "                    if pos < (len(tags) - 1):\n",
    "                        if tags[pos+1] == \"I-NP\":\n",
    "                            record_switch = 2.5\n",
    "                        else:\n",
    "                            record_switch = 3\n",
    "                    else:\n",
    "                        record_switch = 3\n",
    "\n",
    "            if t == \"I-NP\":\n",
    "                if record_switch == 0.5:\n",
    "                    first_container.append(w)\n",
    "                    if pos < (len(tags) - 1):\n",
    "                        if tags[pos+1] != \"I-NP\":\n",
    "                            record_switch = 1\n",
    "                    else:\n",
    "                        record_switch = 3\n",
    "\n",
    "                if record_switch == 2.5:\n",
    "                    third_container.append(w)\n",
    "                    if pos < (len(tags) - 1):\n",
    "                        if tags[pos+1] != \"I-NP\":\n",
    "                            record_switch = 3\n",
    "                    else:\n",
    "                        record_switch = 3\n",
    "\n",
    "            if t == \"B-VP\":\n",
    "                if record_switch == 1:\n",
    "                    second_container.append(w)\n",
    "                    if pos < (len(tags) - 1):\n",
    "                        if tags[pos+1] == \"I-VP\":\n",
    "                            record_switch = 1.5\n",
    "                        else:\n",
    "                            record_switch = 2\n",
    "                    else:\n",
    "                        record_switch = 3\n",
    "\n",
    "            if t == \"I-VP\":\n",
    "                if record_switch == 1.5:\n",
    "                    second_container.append(w)\n",
    "                    if pos < (len(tags) - 1):\n",
    "                        if tags[pos+1] != \"I-VP\":\n",
    "                            record_switch = 2\n",
    "                    else:\n",
    "                        record_switch = 3\n",
    "        except IndexError:\n",
    "            print(pos, len(words), len(tags))\n",
    "                    \n",
    "    if (len(first_container) == 0) or (len(second_container) == 0) or (len(third_container) == 0):\n",
    "        return None, None, False\n",
    "    \n",
    "    joined_words = \" \".join(words)\n",
    "    joined_words = re.sub(r'\\s([\\.\\!\\/_,$%^*(+\\\"\\']+|[+——！，。？、~@#￥%……&*（）](?:\\s|$))', r'\\1', joined_words)\n",
    "    \n",
    "    return (first_container, second_container, third_container), joined_words, True"
   ]
  },
  {
   "cell_type": "code",
   "execution_count": 11,
   "metadata": {},
   "outputs": [
    {
     "name": "stderr",
     "output_type": "stream",
     "text": [
      "100%|██████████| 15907/15907 [01:43<00:00, 153.49it/s]\n"
     ]
    }
   ],
   "source": [
    "with open('../datas/tuple/data_tagger_after_lstmcrf.pkl', 'rb') as bf:\n",
    "    raw_iob_text = pickle.load(bf)\n",
    "    \n",
    "tuple_dict = defaultdict(list)\n",
    "for key, value in tqdm(raw_iob_text.items()):\n",
    "    tp = extract_tuple(value)\n",
    "    if len(tp) > 0:\n",
    "        tuple_dict[key].extend(tp)"
   ]
  },
  {
   "cell_type": "code",
   "execution_count": 13,
   "metadata": {},
   "outputs": [],
   "source": [
    "# 二进制形式保存\n",
    "with open('../datas/tuple/wiki_tri_tuple.pkl', 'wb') as bfile:\n",
    "    pickle.dump(tuple_dict, bfile, protocol=4)"
   ]
  }
 ],
 "metadata": {
  "kernelspec": {
   "display_name": "Python 3",
   "language": "python",
   "name": "python3"
  },
  "language_info": {
   "codemirror_mode": {
    "name": "ipython",
    "version": 3
   },
   "file_extension": ".py",
   "mimetype": "text/x-python",
   "name": "python",
   "nbconvert_exporter": "python",
   "pygments_lexer": "ipython3",
   "version": "3.8.2"
  }
 },
 "nbformat": 4,
 "nbformat_minor": 4
}
